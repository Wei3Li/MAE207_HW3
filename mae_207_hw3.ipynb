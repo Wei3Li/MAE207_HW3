{
 "cells": [
  {
   "cell_type": "markdown",
   "metadata": {},
   "source": [
    "# Assignment 3: Jumping in place\n",
    "\n",
    "Team #: 2\n",
    "\n",
    "Names: Emily Lathrop, Wei Li"
   ]
  },
  {
   "cell_type": "code",
   "execution_count": 27,
   "metadata": {},
   "outputs": [
    {
     "name": "stdout",
     "output_type": "stream",
     "text": [
      "Connected!\n"
     ]
    }
   ],
   "source": [
    "# DO THIS\n",
    "# Import the robot class we are developing\n",
    "import robot\n",
    "# Make a new leg variable which is a robot.Leg class\n",
    "leg = robot.Leg()"
   ]
  },
  {
   "cell_type": "code",
   "execution_count": 28,
   "metadata": {},
   "outputs": [
    {
     "name": "stdout",
     "output_type": "stream",
     "text": [
      "1.5701985847308262\n",
      "1.5715127266472546\n"
     ]
    }
   ],
   "source": [
    "#DO THIS\n",
    "# set fully extended position\n",
    "leg.set_home()\n",
    "# record home position\n",
    "(home_0, home_1) = leg.get_joint_pos()\n",
    "print(float(home_0))\n",
    "print(float(home_1))"
   ]
  },
  {
   "cell_type": "code",
   "execution_count": 36,
   "metadata": {},
   "outputs": [],
   "source": [
    "import time\n",
    "from math import pi\n",
    "\n",
    "initial_time = time.monotonic()  # record the current time\n",
    "current_time = time.monotonic()\n",
    "\n",
    "while(current_time - initial_time < 10):\n",
    "    ii = current_time - initial_time\n",
    "    # Return home position\n",
    "    leg.set_joint_pos(pi/2+(11.5-ii)*pi/120, pi/2-(12-ii)*pi/120, 0, 0, -4, 5)\n",
    "    time.sleep(.3)\n",
    "    \n",
    "    # Squatting\n",
    "    leg.set_joint_pos(pi/2+pi/8+ii*pi/32, pi/2-(pi/8+ii*pi/30), 0, 0, 4, -5)\n",
    "    time.sleep(.6)        \n",
    "    current_time = time.monotonic()\n",
    "leg.set_joint_pos(pi/2, pi/2, 0, 0, -5, 6)"
   ]
  },
  {
   "cell_type": "code",
   "execution_count": 1,
   "metadata": {},
   "outputs": [
    {
     "data": {
      "image/jpeg": "[encoded data removed]",
      "text/html": [
       "\n",
       "        <iframe\n",
       "            width=\"400\"\n",
       "            height=\"300\"\n",
       "            src=\"https://www.youtube.com/embed/BuTUu1itWCI\"\n",
       "            frameborder=\"0\"\n",
       "            allowfullscreen\n",
       "        ></iframe>\n",
       "        "
      ],
      "text/plain": [
       "<IPython.lib.display.YouTubeVideo at 0x20ea9bd0cf8>"
      ]
     },
     "execution_count": 1,
     "metadata": {},
     "output_type": "execute_result"
    }
   ],
   "source": [
    "# YouTube Videos\n",
    "from IPython.lib.display import YouTubeVideo\n",
    "\n",
    "YouTubeVideo('BuTUu1itWCI')"
   ]
  }
 ],
 "metadata": {
  "kernelspec": {
   "display_name": "Python 3",
   "language": "python",
   "name": "python3"
  },
  "language_info": {
   "codemirror_mode": {
    "name": "ipython",
    "version": 3
   },
   "file_extension": ".py",
   "mimetype": "text/x-python",
   "name": "python",
   "nbconvert_exporter": "python",
   "pygments_lexer": "ipython3",
   "version": "3.6.5"
  }
 },
 "nbformat": 4,
 "nbformat_minor": 2
}
